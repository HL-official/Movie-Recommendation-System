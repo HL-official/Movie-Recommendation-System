{
 "cells": [
  {
   "cell_type": "code",
   "execution_count": 36,
   "metadata": {},
   "outputs": [],
   "source": [
    "import numpy as np\n",
    "import pandas as pd\n",
    "import ast\n",
    "from sklearn.feature_extraction.text import TfidfVectorizer\n",
    "from sklearn.metrics.pairwise import linear_kernel"
   ]
  },
  {
   "cell_type": "code",
   "execution_count": 37,
   "metadata": {},
   "outputs": [],
   "source": [
    "# Load datasets\n",
    "df_titles = pd.read_csv('titles.csv')\n",
    "df_credits = pd.read_csv('credits.csv')"
   ]
  },
  {
   "cell_type": "code",
   "execution_count": 38,
   "metadata": {},
   "outputs": [],
   "source": [
    "# Process credits\n",
    "df_credits = df_credits[['person_id', 'id', 'name']]\n",
    "df_credits = df_credits.groupby('id')['name'].apply(','.join).reset_index()"
   ]
  },
  {
   "cell_type": "code",
   "execution_count": 39,
   "metadata": {},
   "outputs": [],
   "source": [
    "# Merge datasets\n",
    "df = pd.merge(df_titles, df_credits, on='id')"
   ]
  },
  {
   "cell_type": "code",
   "execution_count": 40,
   "metadata": {},
   "outputs": [
    {
     "name": "stderr",
     "output_type": "stream",
     "text": [
      "/var/folders/rn/dt8kjgfs5xs9mk_t1rx96v2h0000gn/T/ipykernel_56055/732397005.py:3: SettingWithCopyWarning: \n",
      "A value is trying to be set on a copy of a slice from a DataFrame\n",
      "\n",
      "See the caveats in the documentation: https://pandas.pydata.org/pandas-docs/stable/user_guide/indexing.html#returning-a-view-versus-a-copy\n",
      "  movies.dropna(inplace=True)\n"
     ]
    }
   ],
   "source": [
    "# Select relevant columns and drop missing values\n",
    "movies = df[['id', 'title', 'type', 'description', 'genres', 'name']]\n",
    "movies.dropna(inplace=True)"
   ]
  },
  {
   "cell_type": "code",
   "execution_count": 41,
   "metadata": {},
   "outputs": [
    {
     "name": "stderr",
     "output_type": "stream",
     "text": [
      "/var/folders/rn/dt8kjgfs5xs9mk_t1rx96v2h0000gn/T/ipykernel_56055/3393409473.py:2: SettingWithCopyWarning: \n",
      "A value is trying to be set on a copy of a slice from a DataFrame.\n",
      "Try using .loc[row_indexer,col_indexer] = value instead\n",
      "\n",
      "See the caveats in the documentation: https://pandas.pydata.org/pandas-docs/stable/user_guide/indexing.html#returning-a-view-versus-a-copy\n",
      "  movies['description'] = movies['description'].apply(lambda x: x.replace(\" — \", \" \"))\n",
      "/var/folders/rn/dt8kjgfs5xs9mk_t1rx96v2h0000gn/T/ipykernel_56055/3393409473.py:3: SettingWithCopyWarning: \n",
      "A value is trying to be set on a copy of a slice from a DataFrame.\n",
      "Try using .loc[row_indexer,col_indexer] = value instead\n",
      "\n",
      "See the caveats in the documentation: https://pandas.pydata.org/pandas-docs/stable/user_guide/indexing.html#returning-a-view-versus-a-copy\n",
      "  movies['name'] = movies['name'].apply(lambda x: x.replace(\" \", \"\"))\n",
      "/var/folders/rn/dt8kjgfs5xs9mk_t1rx96v2h0000gn/T/ipykernel_56055/3393409473.py:4: SettingWithCopyWarning: \n",
      "A value is trying to be set on a copy of a slice from a DataFrame.\n",
      "Try using .loc[row_indexer,col_indexer] = value instead\n",
      "\n",
      "See the caveats in the documentation: https://pandas.pydata.org/pandas-docs/stable/user_guide/indexing.html#returning-a-view-versus-a-copy\n",
      "  movies['name'] = movies['name'].apply(lambda x: x.replace(\",\", \" \"))\n",
      "/var/folders/rn/dt8kjgfs5xs9mk_t1rx96v2h0000gn/T/ipykernel_56055/3393409473.py:5: SettingWithCopyWarning: \n",
      "A value is trying to be set on a copy of a slice from a DataFrame.\n",
      "Try using .loc[row_indexer,col_indexer] = value instead\n",
      "\n",
      "See the caveats in the documentation: https://pandas.pydata.org/pandas-docs/stable/user_guide/indexing.html#returning-a-view-versus-a-copy\n",
      "  movies['description'] = movies['description'].apply(lambda x: x.split())\n",
      "/var/folders/rn/dt8kjgfs5xs9mk_t1rx96v2h0000gn/T/ipykernel_56055/3393409473.py:6: SettingWithCopyWarning: \n",
      "A value is trying to be set on a copy of a slice from a DataFrame.\n",
      "Try using .loc[row_indexer,col_indexer] = value instead\n",
      "\n",
      "See the caveats in the documentation: https://pandas.pydata.org/pandas-docs/stable/user_guide/indexing.html#returning-a-view-versus-a-copy\n",
      "  movies['name'] = movies['name'].apply(lambda x: x.split())\n",
      "/var/folders/rn/dt8kjgfs5xs9mk_t1rx96v2h0000gn/T/ipykernel_56055/3393409473.py:7: SettingWithCopyWarning: \n",
      "A value is trying to be set on a copy of a slice from a DataFrame.\n",
      "Try using .loc[row_indexer,col_indexer] = value instead\n",
      "\n",
      "See the caveats in the documentation: https://pandas.pydata.org/pandas-docs/stable/user_guide/indexing.html#returning-a-view-versus-a-copy\n",
      "  movies['description'] = movies['description'].apply(lambda x: [i.replace(\"-\", \"\") for i in x])\n",
      "/var/folders/rn/dt8kjgfs5xs9mk_t1rx96v2h0000gn/T/ipykernel_56055/3393409473.py:8: SettingWithCopyWarning: \n",
      "A value is trying to be set on a copy of a slice from a DataFrame.\n",
      "Try using .loc[row_indexer,col_indexer] = value instead\n",
      "\n",
      "See the caveats in the documentation: https://pandas.pydata.org/pandas-docs/stable/user_guide/indexing.html#returning-a-view-versus-a-copy\n",
      "  movies['genres'] = movies['genres'].apply(ast.literal_eval)\n"
     ]
    }
   ],
   "source": [
    "# Clean and preprocess data\n",
    "movies['description'] = movies['description'].apply(lambda x: x.replace(\" — \", \" \"))\n",
    "movies['name'] = movies['name'].apply(lambda x: x.replace(\" \", \"\"))\n",
    "movies['name'] = movies['name'].apply(lambda x: x.replace(\",\", \" \"))\n",
    "movies['description'] = movies['description'].apply(lambda x: x.split())\n",
    "movies['name'] = movies['name'].apply(lambda x: x.split())\n",
    "movies['description'] = movies['description'].apply(lambda x: [i.replace(\"-\", \"\") for i in x])\n",
    "movies['genres'] = movies['genres'].apply(ast.literal_eval)"
   ]
  },
  {
   "cell_type": "code",
   "execution_count": 42,
   "metadata": {},
   "outputs": [
    {
     "name": "stderr",
     "output_type": "stream",
     "text": [
      "/var/folders/rn/dt8kjgfs5xs9mk_t1rx96v2h0000gn/T/ipykernel_56055/1422715031.py:12: SettingWithCopyWarning: \n",
      "A value is trying to be set on a copy of a slice from a DataFrame.\n",
      "Try using .loc[row_indexer,col_indexer] = value instead\n",
      "\n",
      "See the caveats in the documentation: https://pandas.pydata.org/pandas-docs/stable/user_guide/indexing.html#returning-a-view-versus-a-copy\n",
      "  movies['name'] = movies['name'].apply(convert5)\n",
      "/var/folders/rn/dt8kjgfs5xs9mk_t1rx96v2h0000gn/T/ipykernel_56055/1422715031.py:13: SettingWithCopyWarning: \n",
      "A value is trying to be set on a copy of a slice from a DataFrame.\n",
      "Try using .loc[row_indexer,col_indexer] = value instead\n",
      "\n",
      "See the caveats in the documentation: https://pandas.pydata.org/pandas-docs/stable/user_guide/indexing.html#returning-a-view-versus-a-copy\n",
      "  movies['soup'] = movies['description'] + movies['genres'] + movies['name']\n"
     ]
    }
   ],
   "source": [
    "def convert5(obj):\n",
    "    L = []\n",
    "    counter = 0\n",
    "    for i in obj:\n",
    "        if counter != 5:\n",
    "            L.append(i)\n",
    "            counter += 1\n",
    "        else:\n",
    "            break\n",
    "    return L\n",
    "\n",
    "movies['name'] = movies['name'].apply(convert5)\n",
    "movies['soup'] = movies['description'] + movies['genres'] + movies['name']"
   ]
  },
  {
   "cell_type": "code",
   "execution_count": 43,
   "metadata": {},
   "outputs": [
    {
     "name": "stderr",
     "output_type": "stream",
     "text": [
      "/var/folders/rn/dt8kjgfs5xs9mk_t1rx96v2h0000gn/T/ipykernel_56055/2838638298.py:3: SettingWithCopyWarning: \n",
      "A value is trying to be set on a copy of a slice from a DataFrame.\n",
      "Try using .loc[row_indexer,col_indexer] = value instead\n",
      "\n",
      "See the caveats in the documentation: https://pandas.pydata.org/pandas-docs/stable/user_guide/indexing.html#returning-a-view-versus-a-copy\n",
      "  new_df['soup'] = new_df['soup'].apply(lambda x: \" \".join(x))\n",
      "/var/folders/rn/dt8kjgfs5xs9mk_t1rx96v2h0000gn/T/ipykernel_56055/2838638298.py:4: SettingWithCopyWarning: \n",
      "A value is trying to be set on a copy of a slice from a DataFrame.\n",
      "Try using .loc[row_indexer,col_indexer] = value instead\n",
      "\n",
      "See the caveats in the documentation: https://pandas.pydata.org/pandas-docs/stable/user_guide/indexing.html#returning-a-view-versus-a-copy\n",
      "  new_df['soup'] = new_df['soup'].apply(lambda x: x.lower())\n"
     ]
    }
   ],
   "source": [
    "# Combine the soup into a single string and convert to lowercase\n",
    "new_df = movies[['id', 'title', 'type', 'soup']]\n",
    "new_df['soup'] = new_df['soup'].apply(lambda x: \" \".join(x))\n",
    "new_df['soup'] = new_df['soup'].apply(lambda x: x.lower())"
   ]
  },
  {
   "cell_type": "code",
   "execution_count": 44,
   "metadata": {},
   "outputs": [],
   "source": [
    "# Define a TF-IDF Vectorizer Object\n",
    "tfidf = TfidfVectorizer(stop_words='english')"
   ]
  },
  {
   "cell_type": "code",
   "execution_count": 45,
   "metadata": {},
   "outputs": [],
   "source": [
    "# Construct the required TF-IDF matrix by fitting and transforming the data\n",
    "tfidf_matrix = tfidf.fit_transform(new_df['soup'])\n",
    "\n",
    "# Compute the cosine similarity matrix\n",
    "cosine_sim = linear_kernel(tfidf_matrix, tfidf_matrix)\n",
    "\n",
    "# Construct a reverse map of indices and movie titles\n",
    "indices = pd.Series(new_df.index, index=new_df['title']).drop_duplicates()"
   ]
  },
  {
   "cell_type": "code",
   "execution_count": 46,
   "metadata": {},
   "outputs": [
    {
     "name": "stderr",
     "output_type": "stream",
     "text": [
      "/var/folders/rn/dt8kjgfs5xs9mk_t1rx96v2h0000gn/T/ipykernel_56055/1046308918.py:2: SettingWithCopyWarning: \n",
      "A value is trying to be set on a copy of a slice from a DataFrame\n",
      "\n",
      "See the caveats in the documentation: https://pandas.pydata.org/pandas-docs/stable/user_guide/indexing.html#returning-a-view-versus-a-copy\n",
      "  new_df.drop_duplicates(subset='title', keep='first', inplace=True)\n"
     ]
    }
   ],
   "source": [
    "# Drop duplicates based on 'title'\n",
    "new_df.drop_duplicates(subset='title', keep='first', inplace=True)"
   ]
  },
  {
   "cell_type": "code",
   "execution_count": 47,
   "metadata": {},
   "outputs": [],
   "source": [
    "# Recreate the indices, tfidf_matrix and cosine_sim\n",
    "indices = pd.Series(new_df.index, index=new_df['title']).drop_duplicates()\n",
    "tfidf_matrix = tfidf.fit_transform(new_df['soup'])\n",
    "cosine_sim = linear_kernel(tfidf_matrix, tfidf_matrix)"
   ]
  },
  {
   "cell_type": "code",
   "execution_count": 48,
   "metadata": {},
   "outputs": [],
   "source": [
    "def get_recommendations(input_text, by_title=True, cosine_sim=cosine_sim):\n",
    "    if by_title:\n",
    "        # Get the index of the movie that matches the title\n",
    "        idx = indices[input_text]\n",
    "        \n",
    "        # Get the pairwise similarity scores of all movies with that movie\n",
    "        sim_scores = cosine_sim[idx]\n",
    "    else:\n",
    "        # Use the provided description directly as soup\n",
    "        input_soup = input_text.lower()\n",
    "        input_tfidf = tfidf.transform([input_soup])\n",
    "        sim_scores = linear_kernel(input_tfidf, tfidf_matrix).flatten()\n",
    "    \n",
    "    # Sort the movies based on the similarity scores\n",
    "    sim_scores = list(enumerate(sim_scores))\n",
    "    sim_scores = sorted(sim_scores, key=lambda x: x[1], reverse=True)\n",
    "    \n",
    "    # Get the scores of the 10 most similar movies\n",
    "    sim_scores = sim_scores[1:11]\n",
    "    \n",
    "    # Get the movie indices\n",
    "    movie_indices = [i[0] for i in sim_scores]\n",
    "    \n",
    "    # Return the top 10 most similar movies\n",
    "    return new_df['title'].iloc[movie_indices]"
   ]
  },
  {
   "cell_type": "code",
   "execution_count": 49,
   "metadata": {},
   "outputs": [],
   "source": [
    "def get_autocomplete_options(query):\n",
    "    query = query.lower()  # Convert the query to lowercase\n",
    "    num_options = 5  # Number of autocomplete options to return\n",
    "\n",
    "    # Filter the DataFrame to rows where the movie title starts with the query string\n",
    "    options = new_df[new_df['title'].str.lower().str.startswith(query)]['title']\n",
    "\n",
    "    # Convert the filtered DataFrame to a list and return it\n",
    "    return options.head(num_options).tolist()"
   ]
  },
  {
   "cell_type": "code",
   "execution_count": 53,
   "metadata": {},
   "outputs": [
    {
     "name": "stdout",
     "output_type": "stream",
     "text": [
      "Recommended movies based on the provided description:\n",
      "4442          Don't Look Up\n",
      "627        Django Unchained\n",
      "237            The Departed\n",
      "235               Inception\n",
      "224     Catch Me If You Can\n",
      "293           Blood Diamond\n",
      "101                 Titanic\n",
      "4125        Blood Will Tell\n",
      "3868          Bard of Blood\n",
      "1258                 T@gged\n",
      "Name: title, dtype: object\n",
      "Autocomplete options for 'Inc':\n",
      "['Inception', 'Incomplete Life', 'Incarnate', 'Incantation']\n",
      "Recommended movies based on the provided description:\n",
      "1862               To the Bone\n",
      "1699             The Bad Batch\n",
      "1708       Destination Wedding\n",
      "290             The Lake House\n",
      "1926                   Siberia\n",
      "278     Something's Gotta Give\n",
      "136           The Replacements\n",
      "141            Johnny Mnemonic\n",
      "0                  Taxi Driver\n",
      "1                  Deliverance\n",
      "Name: title, dtype: object\n"
     ]
    }
   ],
   "source": [
    "# Example: Get recommendations for the movie \"Inception\"\n",
    "# recommended_movies = get_recommendations(\"Inception\", by_title=True)\n",
    "# print(\"Recommended movies based on 'Inception':\")\n",
    "# print(recommended_movies)\n",
    "\n",
    "# Example: Get recommendations based on a description (soup)\n",
    "description = \"thriller LeonardoDiCaprio\"\n",
    "recommended_movies_with_soup = get_recommendations(description, by_title=False)\n",
    "print(\"Recommended movies based on the provided description:\")\n",
    "print(recommended_movies_with_soup)\n",
    "\n",
    "# Example: Get autocomplete options for the query \"Inc\"\n",
    "autocomplete_options = get_autocomplete_options(\"Inc\")\n",
    "print(\"Autocomplete options for 'Inc':\")\n",
    "print(autocomplete_options)\n",
    "\n",
    "# Example: Get recommendations based on a description (soup)\n",
    "description_matrix = \"KeanuReeves\"\n",
    "recommended_movies_matrix_with_soup = get_recommendations(description_matrix, by_title=False)\n",
    "print(\"Recommended movies based on the provided description:\")\n",
    "print(recommended_movies_matrix_with_soup)\n"
   ]
  },
  {
   "cell_type": "code",
   "execution_count": null,
   "metadata": {},
   "outputs": [],
   "source": []
  }
 ],
 "metadata": {
  "kernelspec": {
   "display_name": "Python 3",
   "language": "python",
   "name": "python3"
  },
  "language_info": {
   "codemirror_mode": {
    "name": "ipython",
    "version": 3
   },
   "file_extension": ".py",
   "mimetype": "text/x-python",
   "name": "python",
   "nbconvert_exporter": "python",
   "pygments_lexer": "ipython3",
   "version": "3.9.10"
  }
 },
 "nbformat": 4,
 "nbformat_minor": 2
}
